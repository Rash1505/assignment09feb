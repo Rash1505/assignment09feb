{
 "cells": [
  {
   "cell_type": "markdown",
   "id": "c75a4628-a6cf-4fbd-b5a2-015d9da6c06a",
   "metadata": {},
   "source": [
    "Q1. Create a vehicle class with an init method having instance variable as name_of_vehicle, max_speed\n",
    "    and average_of_vehicle."
   ]
  },
  {
   "cell_type": "code",
   "execution_count": 53,
   "id": "e6fbfd4e-9454-444f-9daa-f2bae6a3dff7",
   "metadata": {},
   "outputs": [],
   "source": [
    "class vehicle :\n",
    "    \n",
    "    def __init__(self, name_of_vehicle, max_speed, average_of_vehicle) :\n",
    "        self.name_of_vehicle = name_of_vehicle\n",
    "        self.max_speed = max_speed\n",
    "        self.average_of_vehicle = average_of_vehicle\n",
    "        \n",
    "     "
   ]
  },
  {
   "cell_type": "code",
   "execution_count": 54,
   "id": "27dc210c-8905-4ede-b186-b33ee26e8e47",
   "metadata": {},
   "outputs": [],
   "source": [
    "v = vehicle( 'activa', 120, 200)"
   ]
  },
  {
   "cell_type": "code",
   "execution_count": 55,
   "id": "dbd97dd7-d64e-44cc-85e6-6f87d7bdfeb9",
   "metadata": {},
   "outputs": [
    {
     "data": {
      "text/plain": [
       "120"
      ]
     },
     "execution_count": 55,
     "metadata": {},
     "output_type": "execute_result"
    }
   ],
   "source": [
    "v.max_speed"
   ]
  },
  {
   "cell_type": "code",
   "execution_count": 56,
   "id": "357d352c-164c-4788-b458-3da274907afa",
   "metadata": {},
   "outputs": [
    {
     "data": {
      "text/plain": [
       "'activa'"
      ]
     },
     "execution_count": 56,
     "metadata": {},
     "output_type": "execute_result"
    }
   ],
   "source": [
    "v.name_of_vehicle"
   ]
  },
  {
   "cell_type": "markdown",
   "id": "a7cff947-6236-4d0b-95ce-e83684afee73",
   "metadata": {},
   "source": [
    "Q2. Create a child class car from the vehicle class created in Que 1, which will inherit the vehicle class.\n",
    "    Create a method named seating_capacity which takes capacity as an argument and returns the name of the \n",
    "    vehicle and its seating capacity."
   ]
  },
  {
   "cell_type": "code",
   "execution_count": 63,
   "id": "d4222166-62e3-4042-a265-6acf30bd75b5",
   "metadata": {},
   "outputs": [],
   "source": [
    "class car(vehicle):\n",
    "    \n",
    "    seating_capacity = 4\n",
    "    \n",
    "    def seating_capaicty(self):\n",
    "        print(self.name_of_vehicle, car.seating_capacity)"
   ]
  },
  {
   "cell_type": "code",
   "execution_count": 64,
   "id": "80c5bf56-9dcf-4a15-9977-c8ffcd3bb490",
   "metadata": {},
   "outputs": [],
   "source": [
    "c = car('toyota', 100, 200)"
   ]
  },
  {
   "cell_type": "code",
   "execution_count": 65,
   "id": "f372ffea-501c-4fe9-8a53-1d53c97a2039",
   "metadata": {},
   "outputs": [
    {
     "name": "stdout",
     "output_type": "stream",
     "text": [
      "toyota 4\n"
     ]
    }
   ],
   "source": [
    "c.seating_capaicty()"
   ]
  },
  {
   "cell_type": "markdown",
   "id": "052d38fe-e830-421c-817f-b79f8532ab45",
   "metadata": {},
   "source": [
    "Q3. what is multiple inheritance? Write a python code to demonstrate multiple inheritance."
   ]
  },
  {
   "cell_type": "markdown",
   "id": "2d02bbf0-c641-42cf-b206-d5f6129cb8ba",
   "metadata": {},
   "source": [
    "if a class can be derived from more than one superclass is called as multiple inheritance\n",
    "for example: child class  can be derived from mother and father class"
   ]
  },
  {
   "cell_type": "code",
   "execution_count": 47,
   "id": "5279e3ce-86f9-49a3-a5c0-a725e80dc552",
   "metadata": {},
   "outputs": [],
   "source": [
    "class class1:\n",
    "    \n",
    "    def test_class1(self) :\n",
    "        return ' this is class1'"
   ]
  },
  {
   "cell_type": "code",
   "execution_count": 48,
   "id": "e5a7b476-dfe5-4a80-810d-ca93d713e191",
   "metadata": {},
   "outputs": [],
   "source": [
    "class class2:\n",
    "    \n",
    "    def test_class2(self) :\n",
    "        return ' this is class2'"
   ]
  },
  {
   "cell_type": "code",
   "execution_count": 49,
   "id": "c9c5918a-8659-476d-9e3a-43f256399c99",
   "metadata": {},
   "outputs": [],
   "source": [
    "class class3(class1 , class2) :\n",
    "    pass"
   ]
  },
  {
   "cell_type": "code",
   "execution_count": 53,
   "id": "2fe7c589-6f78-4f87-a8d9-b1e630c20e99",
   "metadata": {},
   "outputs": [],
   "source": [
    "obj_class3 = class3()"
   ]
  },
  {
   "cell_type": "code",
   "execution_count": 55,
   "id": "95c144dc-429c-4a94-b1f4-733f1b7ccd26",
   "metadata": {},
   "outputs": [
    {
     "data": {
      "text/plain": [
       "' this is class1'"
      ]
     },
     "execution_count": 55,
     "metadata": {},
     "output_type": "execute_result"
    }
   ],
   "source": [
    "obj_class3.test_class1()"
   ]
  },
  {
   "cell_type": "code",
   "execution_count": 57,
   "id": "ddd5a621-b4ba-4c77-ac30-ff59ebfbeb3e",
   "metadata": {},
   "outputs": [
    {
     "data": {
      "text/plain": [
       "' this is class2'"
      ]
     },
     "execution_count": 57,
     "metadata": {},
     "output_type": "execute_result"
    }
   ],
   "source": [
    "obj_class3.test_class2()"
   ]
  },
  {
   "cell_type": "markdown",
   "id": "a36fe4b8-058d-4f02-a88e-37fc73eb1288",
   "metadata": {},
   "source": [
    "Q4. What are the getter and setter in python? Create a class and create a getter and setter method in\n",
    "    this class."
   ]
  },
  {
   "cell_type": "markdown",
   "id": "2134c13f-5824-4aa5-a358-eaf491021e19",
   "metadata": {},
   "source": [
    "getter:-\n",
    "\n",
    "getter is a method that allows us to access an attribute in a given class.\n",
    "\n",
    "setter:-\n",
    "\n",
    "setter is a method that allows us to set the value of an attribute in a class."
   ]
  },
  {
   "cell_type": "code",
   "execution_count": 70,
   "id": "6b0838f7-5765-4e74-ba9a-45a3b66a99ef",
   "metadata": {},
   "outputs": [],
   "source": [
    "class vehicle:\n",
    "    \n",
    "    def __init__(self, name_of_vehicle, vehicle_price):\n",
    "        \n",
    "        self.name_of_vehicle = name_of_vehicle\n",
    "        self.__vehicle_price = vehicle_price\n",
    "        \n",
    "    @property\n",
    "    def vehicle_price_access(self):\n",
    "        return self.__vehicle_price\n",
    "    \n",
    "    @vehicle_price_access.setter\n",
    "    def vehicle_price_set(self,price):\n",
    "        if price <= 500000 :\n",
    "            pass\n",
    "        else :\n",
    "            self.__vehicle_price = price"
   ]
  },
  {
   "cell_type": "code",
   "execution_count": 87,
   "id": "bc468f5d-d23a-46fc-96f0-e994699f42b1",
   "metadata": {},
   "outputs": [],
   "source": [
    "v=vehicle('toyota',50000)"
   ]
  },
  {
   "cell_type": "code",
   "execution_count": 88,
   "id": "4761c3b5-7903-4319-b60c-7e57fcfd936d",
   "metadata": {},
   "outputs": [
    {
     "data": {
      "text/plain": [
       "50000"
      ]
     },
     "execution_count": 88,
     "metadata": {},
     "output_type": "execute_result"
    }
   ],
   "source": [
    "v.vehicle_price_access"
   ]
  },
  {
   "cell_type": "code",
   "execution_count": 89,
   "id": "fc0393b4-fd29-43f4-8254-8d691344e99c",
   "metadata": {},
   "outputs": [
    {
     "data": {
      "text/plain": [
       "50000"
      ]
     },
     "execution_count": 89,
     "metadata": {},
     "output_type": "execute_result"
    }
   ],
   "source": [
    "v.vehicle_price_set"
   ]
  },
  {
   "cell_type": "markdown",
   "id": "33476626-81fa-4b76-8397-d88a7c2a6802",
   "metadata": {},
   "source": [
    "Q5.what is the method of overriding in python?Write a python code to demonstrate method overriding."
   ]
  },
  {
   "cell_type": "markdown",
   "id": "ce1a477c-d3e6-4236-a38b-f5bfba46f4c5",
   "metadata": {},
   "source": [
    "when we have two methods with the same name but each perform different tasks is called overriding.\n",
    "in this method child class change its function which are defind by parent class."
   ]
  },
  {
   "cell_type": "code",
   "execution_count": 41,
   "id": "e6705369-a13e-48ba-b95e-a24e26a85bba",
   "metadata": {},
   "outputs": [],
   "source": [
    "class class1:\n",
    "    \n",
    "    def test_class1(self):\n",
    "        print('this is class1')\n",
    "        \n",
    "class class2:\n",
    "    def test_class2(self):\n",
    "        print('this is class2')\n",
    "        \n",
    "class class3(class1, class2):\n",
    "    def test_class1(self):\n",
    "        print('this is child class')\n",
    "        \n",
    "    \n",
    "        "
   ]
  },
  {
   "cell_type": "code",
   "execution_count": 42,
   "id": "ee5da8f7-d81d-4d7c-9425-ea3f940e7244",
   "metadata": {},
   "outputs": [],
   "source": [
    "obj_class3 = class3()"
   ]
  },
  {
   "cell_type": "code",
   "execution_count": 43,
   "id": "91f5f694-d7e2-42c4-95ad-203014c583db",
   "metadata": {},
   "outputs": [
    {
     "name": "stdout",
     "output_type": "stream",
     "text": [
      "this is child class\n"
     ]
    }
   ],
   "source": [
    "obj_class3.test_class1()"
   ]
  },
  {
   "cell_type": "code",
   "execution_count": 44,
   "id": "7a53c653-2358-469c-91f9-7e2cb2cae9b9",
   "metadata": {},
   "outputs": [
    {
     "name": "stdout",
     "output_type": "stream",
     "text": [
      "this is class2\n"
     ]
    }
   ],
   "source": [
    "obj_class3.test_class2()"
   ]
  },
  {
   "cell_type": "code",
   "execution_count": null,
   "id": "b17d6002-3e86-4409-b6d1-6896ba30a100",
   "metadata": {},
   "outputs": [],
   "source": []
  }
 ],
 "metadata": {
  "kernelspec": {
   "display_name": "Python 3 (ipykernel)",
   "language": "python",
   "name": "python3"
  },
  "language_info": {
   "codemirror_mode": {
    "name": "ipython",
    "version": 3
   },
   "file_extension": ".py",
   "mimetype": "text/x-python",
   "name": "python",
   "nbconvert_exporter": "python",
   "pygments_lexer": "ipython3",
   "version": "3.10.8"
  }
 },
 "nbformat": 4,
 "nbformat_minor": 5
}
